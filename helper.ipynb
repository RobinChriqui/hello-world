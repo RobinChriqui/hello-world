{
  "nbformat": 4,
  "nbformat_minor": 0,
  "metadata": {
    "colab": {
      "name": "helper.ipynb",
      "provenance": [],
      "authorship_tag": "ABX9TyOyOraV288EUbyFSSdvNy9E",
      "include_colab_link": true
    },
    "kernelspec": {
      "name": "python3",
      "display_name": "Python 3"
    },
    "language_info": {
      "name": "python"
    }
  },
  "cells": [
    {
      "cell_type": "markdown",
      "metadata": {
        "id": "view-in-github",
        "colab_type": "text"
      },
      "source": [
        "<a href=\"https://colab.research.google.com/github/RobinChriqui/hello-world/blob/main/helper.ipynb\" target=\"_parent\"><img src=\"https://colab.research.google.com/assets/colab-badge.svg\" alt=\"Open In Colab\"/></a>"
      ]
    },
    {
      "cell_type": "code",
      "metadata": {
        "id": "bjOR_XMs1-vV"
      },
      "source": [
        "\n",
        "\n",
        "\n",
        "def plot_loss_curves(history):\n",
        "  \"\"\"\n",
        "  Returns seprate loss curves for training and validation metrics.\n",
        "\n",
        "  Args:\n",
        "  history:Tensorflow History object.\n",
        "\n",
        "  Returns of training/validation loss and accuracy metrics\n",
        "  \"\"\"\n",
        "  loss=history.history[\"loss\"]\n",
        "  val_loss=history.history[\"val_loss\"]\n",
        "\n",
        "  accuracy=history.history[\"accuracy\"]\n",
        "  val_accuracy=history.history[\"val_accuracy\"]\n",
        "\n",
        "  epochs=range(len(history.history[\"loss\"]))\n",
        "\n",
        "  #Plot loss\n",
        "\n",
        "  plt.plot(epochs, loss, label=\"training_loss\")\n",
        "  plt.plot(epochs, val_loss, label=\"val_loss\")\n",
        "  plt.title(\"Loss\")\n",
        "  plt.xlabel(\"Epochs\")\n",
        "  plt.legend\n",
        "\n",
        "\n",
        "  #Plot accuracy\n",
        "  plt.figure()\n",
        "  plt.plot(epochs, accuracy, label=\"training_accuracy\")\n",
        "  plt.plot(epochs, val_accuracy, label=\"val_accuracy\")\n",
        "  plt.title(\"Accrucacy\")\n",
        "  plt.xlabel(\"Epochs\")\n",
        "  plt.legend()\n"
      ],
      "execution_count": null,
      "outputs": []
    }
  ]
}